{
 "cells": [
  {
   "cell_type": "code",
   "execution_count": 6,
   "metadata": {},
   "outputs": [],
   "source": [
    "# MODIFY ENERGY_TYPES\n",
    "import psycopg2\n",
    "\n",
    "conn = psycopg2.connect(host='34.68.233.243', port='5432', user='', password='')\n",
    "curr = conn.cursor()\n",
    "\n",
    "curr.execute(\"INSERT INTO energy_types (name, co2_per_kwh, abbreviation, is_renewable, is_non_emitting) VALUES ('solar', 0, 'solar', 'True', 'True');\")\n",
    "curr.execute(\"INSERT INTO energy_types (name, co2_per_kwh, abbreviation, is_renewable, is_non_emitting) VALUES ('nuclear', 0, 'nuclear', 'False', 'True');\")\n",
    "curr.execute(\"INSERT INTO energy_types (name, co2_per_kwh, abbreviation, is_renewable, is_non_emitting) VALUES ('coal', 0, 'coal', 'False', 'False');\")\n",
    "curr.execute(\"INSERT INTO energy_types (name, co2_per_kwh, abbreviation, is_renewable, is_non_emitting) VALUES ('hydro', 0, 'hydro', 'True', 'True');\")\n",
    "curr.execute(\"INSERT INTO energy_types (name, co2_per_kwh, abbreviation, is_renewable, is_non_emitting) VALUES ('gas', 0, 'gas', 'False', 'False');\")\n",
    "curr.execute(\"INSERT INTO energy_types (name, co2_per_kwh, abbreviation, is_renewable, is_non_emitting) VALUES ('biofuel', 0, 'biofuel', 'True', 'False');\")\n",
    "curr.execute(\"INSERT INTO energy_types (name, co2_per_kwh, abbreviation, is_renewable, is_non_emitting) VALUES ('wind', 0, 'wind', 'True', 'True');\")\n",
    "curr.execute(\"INSERT INTO energy_types (name, co2_per_kwh, abbreviation, is_renewable, is_non_emitting) VALUES ('other', 0, 'other', 'False', 'False');\")\n",
    "curr.execute(\"INSERT INTO energy_types (name, co2_per_kwh, abbreviation, is_renewable, is_non_emitting) VALUES ('dual fuel', 0, 'dual fuel', 'False', 'False');\")\n",
    "\n",
    "conn.commit()\n",
    "curr.close()\n",
    "conn.close()\n"
   ]
  },
  {
   "cell_type": "code",
   "execution_count": 4,
   "metadata": {},
   "outputs": [],
   "source": [
    "# MODIFY ENERGY_PROFILE\n",
    "import psycopg2\n",
    "\n",
    "conn = psycopg2.connect(host='34.68.233.243', port='5432', user='', password='')\n",
    "curr = conn.cursor()\n",
    "\n",
    "curr.execute(\"INSERT INTO energy_profiles (name) VALUES ('british columbia');\")\n",
    "curr.execute(\"INSERT INTO energy_profiles (name) VALUES ('alberta');\")\n",
    "curr.execute(\"INSERT INTO energy_profiles (name) VALUES ('saskatchewan');\")\n",
    "curr.execute(\"INSERT INTO energy_profiles (name) VALUES ('manitoba');\")\n",
    "curr.execute(\"INSERT INTO energy_profiles (name) VALUES ('ontario');\")\n",
    "curr.execute(\"INSERT INTO energy_profiles (name) VALUES ('quebec');\")\n",
    "curr.execute(\"INSERT INTO energy_profiles (name) VALUES ('nova scotia');\")\n",
    "curr.execute(\"INSERT INTO energy_profiles (name) VALUES ('new brunswick');\")\n",
    "curr.execute(\"INSERT INTO energy_profiles (name) VALUES ('prince edward island');\")\n",
    "curr.execute(\"INSERT INTO energy_profiles (name) VALUES ('newfoundland and labrador');\")\n",
    "curr.execute(\"INSERT INTO energy_profiles (name) VALUES ('yukon');\")\n",
    "curr.execute(\"INSERT INTO energy_profiles (name) VALUES ('northwest territories');\")\n",
    "curr.execute(\"INSERT INTO energy_profiles (name) VALUES ('nunavut');\")\n",
    "\n",
    "\n",
    "conn.commit()\n",
    "curr.close()\n",
    "conn.close()"
   ]
  },
  {
   "cell_type": "code",
   "execution_count": 5,
   "metadata": {},
   "outputs": [],
   "source": [
    "# MODIFY PROVINCES\n",
    "import psycopg2\n",
    "\n",
    "conn = psycopg2.connect(host='34.68.233.243', port='5432', user='', password='')\n",
    "curr = conn.cursor()\n",
    "\n",
    "curr.execute(\"INSERT INTO provinces (name, energy_profile_code, abbreviation) VALUES ('british columbia', '27', 'BC');\")\n",
    "curr.execute(\"INSERT INTO provinces (name, energy_profile_code, abbreviation) VALUES ('alberta', '28', 'AB');\")\n",
    "curr.execute(\"INSERT INTO provinces (name, energy_profile_code, abbreviation) VALUES ('saskatchewan', '29', 'SK');\")\n",
    "curr.execute(\"INSERT INTO provinces (name, energy_profile_code, abbreviation) VALUES ('manitoba', '30', 'MB');\")\n",
    "curr.execute(\"INSERT INTO provinces (name, energy_profile_code, abbreviation) VALUES ('ontario', '31', 'ON');\")\n",
    "curr.execute(\"INSERT INTO provinces (name, energy_profile_code, abbreviation) VALUES ('quebec', '32', 'QC');\")\n",
    "curr.execute(\"INSERT INTO provinces (name, energy_profile_code, abbreviation) VALUES ('nova scotia', '33', 'NS');\")\n",
    "curr.execute(\"INSERT INTO provinces (name, energy_profile_code, abbreviation) VALUES ('new brunswick', '34', 'NB');\")\n",
    "curr.execute(\"INSERT INTO provinces (name, energy_profile_code, abbreviation) VALUES ('prince edward island', '35', 'PE');\")\n",
    "curr.execute(\"INSERT INTO provinces (name, energy_profile_code, abbreviation) VALUES ('newfoundland and labrador', '36', 'NL');\")\n",
    "curr.execute(\"INSERT INTO provinces (name, energy_profile_code, abbreviation) VALUES ('yukon', '37', 'YT');\")\n",
    "curr.execute(\"INSERT INTO provinces (name, energy_profile_code, abbreviation) VALUES ('northwest territories', '38', 'NT');\")\n",
    "curr.execute(\"INSERT INTO provinces (name, energy_profile_code, abbreviation) VALUES ('nunavut', '39', 'NU');\")\n",
    "\n",
    "\n",
    "conn.commit()\n",
    "curr.close()\n",
    "conn.close()"
   ]
  },
  {
   "cell_type": "code",
   "execution_count": 7,
   "metadata": {},
   "outputs": [],
   "source": [
    "# MODIFY ONTARIO ENERGY_SOURCES\n",
    "import psycopg2\n",
    "\n",
    "conn = psycopg2.connect(host='34.68.233.243', port='5432', user='', password='')\n",
    "curr = conn.cursor()\n",
    "\n",
    "curr.execute(\"INSERT INTO energy_sources (name, energy_profile_code, energy_type, quantity) VALUES ('ontario solar',    '31', '21', '8');\")\n",
    "curr.execute(\"INSERT INTO energy_sources (name, energy_profile_code, energy_type, quantity) VALUES ('ontario nuclear',  '31', '22', '8469');\")\n",
    "curr.execute(\"INSERT INTO energy_sources (name, energy_profile_code, energy_type, quantity) VALUES ('ontario coal',     '31', '23', '0');\")\n",
    "curr.execute(\"INSERT INTO energy_sources (name, energy_profile_code, energy_type, quantity) VALUES ('ontario hydro',    '31', '24', '4065');\")\n",
    "curr.execute(\"INSERT INTO energy_sources (name, energy_profile_code, energy_type, quantity) VALUES ('ontario gas',      '31', '25', '1226');\")\n",
    "curr.execute(\"INSERT INTO energy_sources (name, energy_profile_code, energy_type, quantity) VALUES ('ontario biofuel',  '31', '26', '132');\")\n",
    "curr.execute(\"INSERT INTO energy_sources (name, energy_profile_code, energy_type, quantity) VALUES ('ontario wind',     '31', '27', '3461');\")\n",
    "\n",
    "conn.commit()\n",
    "curr.close()\n",
    "conn.close()"
   ]
  },
  {
   "cell_type": "code",
   "execution_count": 8,
   "metadata": {},
   "outputs": [],
   "source": [
    "# MODIFY QUEBEC ENERGY_SOURCES\n",
    "import psycopg2\n",
    "\n",
    "conn = psycopg2.connect(host='34.68.233.243', port='5432', user='', password='')\n",
    "curr = conn.cursor()\n",
    "\n",
    "curr.execute(\"INSERT INTO energy_sources (name, energy_profile_code, energy_type, quantity) VALUES ('quebec solar',     '32', '21', '0');\")\n",
    "curr.execute(\"INSERT INTO energy_sources (name, energy_profile_code, energy_type, quantity) VALUES ('quebec hydro',     '32', '24', '23924');\")\n",
    "curr.execute(\"INSERT INTO energy_sources (name, energy_profile_code, energy_type, quantity) VALUES ('quebec biofuel',   '32', '26', '563');\")\n",
    "curr.execute(\"INSERT INTO energy_sources (name, energy_profile_code, energy_type, quantity) VALUES ('quebec wind',      '32', '27', '799');\")\n",
    "\n",
    "conn.commit()\n",
    "curr.close()\n",
    "conn.close()"
   ]
  },
  {
   "cell_type": "code",
   "execution_count": 9,
   "metadata": {},
   "outputs": [],
   "source": [
    "# MODIFY ALBERTA ENERGY_SOURCES\n",
    "import psycopg2\n",
    "\n",
    "conn = psycopg2.connect(host='34.68.233.243', port='5432', user='', password='')\n",
    "curr = conn.cursor()\n",
    "\n",
    "curr.execute(\"INSERT INTO energy_sources (name, energy_profile_code, energy_type, quantity) VALUES ('alberta solar',    '28', '21', '5');\")\n",
    "curr.execute(\"INSERT INTO energy_sources (name, energy_profile_code, energy_type, quantity) VALUES ('alberta dual fuel','28', '28', '242');\")\n",
    "curr.execute(\"INSERT INTO energy_sources (name, energy_profile_code, energy_type, quantity) VALUES ('alberta coal',     '28', '23', '1514');\")\n",
    "curr.execute(\"INSERT INTO energy_sources (name, energy_profile_code, energy_type, quantity) VALUES ('alberta hydro',    '28', '24', '202');\")\n",
    "curr.execute(\"INSERT INTO energy_sources (name, energy_profile_code, energy_type, quantity) VALUES ('alberta gas',      '28', '25', '5718');\")\n",
    "curr.execute(\"INSERT INTO energy_sources (name, energy_profile_code, energy_type, quantity) VALUES ('alberta biofuel',  '28', '26', '309');\")\n",
    "curr.execute(\"INSERT INTO energy_sources (name, energy_profile_code, energy_type, quantity) VALUES ('alberta wind',     '28', '27', '1570');\")\n",
    "\n",
    "conn.commit()\n",
    "curr.close()\n",
    "conn.close()"
   ]
  },
  {
   "cell_type": "code",
   "execution_count": null,
   "metadata": {},
   "outputs": [],
   "source": []
  }
 ],
 "metadata": {
  "interpreter": {
   "hash": "e774977668b7c0ae8309835a5187aa7fbf7669e7d0bb59755bc63e573643edcd"
  },
  "kernelspec": {
   "display_name": "Python 3.7.4 64-bit",
   "language": "python",
   "name": "python3"
  },
  "language_info": {
   "codemirror_mode": {
    "name": "ipython",
    "version": 3
   },
   "file_extension": ".py",
   "mimetype": "text/x-python",
   "name": "python",
   "nbconvert_exporter": "python",
   "pygments_lexer": "ipython3",
   "version": "3.8.5"
  },
  "orig_nbformat": 4
 },
 "nbformat": 4,
 "nbformat_minor": 2
}
